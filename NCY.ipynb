{
 "cells": [
  {
   "cell_type": "markdown",
   "metadata": {},
   "source": [
    "## Analyzing NewYork City Taxi Rides\n",
    "### Author: Zynab Smaan."
   ]
  },
  {
   "cell_type": "code",
   "execution_count": 1,
   "metadata": {},
   "outputs": [],
   "source": [
    "from pyspark.sql import SparkSession\n",
    "from pyspark.sql.functions import col, unix_timestamp, to_timestamp\n",
    "\n",
    "spark = SparkSession \\\n",
    "    .builder \\\n",
    "    .appName(\"Analyzing New york city trips\") \\\n",
    "    .getOrCreate()"
   ]
  },
  {
   "cell_type": "code",
   "execution_count": 2,
   "metadata": {},
   "outputs": [],
   "source": [
    "trips = spark.read\\\n",
    "               .format(\"csv\")\\\n",
    "               .option(\"header\", \"true\")\\\n",
    "               .load(\"sample.csv\")"
   ]
  },
  {
   "cell_type": "code",
   "execution_count": 3,
   "metadata": {},
   "outputs": [
    {
     "name": "stdout",
     "output_type": "stream",
     "text": [
      "root\n",
      " |-- medallion: string (nullable = true)\n",
      " |-- hack_license: string (nullable = true)\n",
      " |-- vendor_id: string (nullable = true)\n",
      " |-- rate_code: string (nullable = true)\n",
      " |-- store_and_fwd_flag: string (nullable = true)\n",
      " |-- pickup_datetime: string (nullable = true)\n",
      " |-- dropoff_datetime: string (nullable = true)\n",
      " |-- passenger_count: string (nullable = true)\n",
      " |-- trip_time_in_secs: string (nullable = true)\n",
      " |-- trip_distance: string (nullable = true)\n",
      " |-- pickup_longitude: string (nullable = true)\n",
      " |-- pickup_latitude: string (nullable = true)\n",
      " |-- dropoff_longitude: string (nullable = true)\n",
      " |-- dropoff_latitude: string (nullable = true)\n",
      "\n"
     ]
    }
   ],
   "source": [
    "trips.printSchema()"
   ]
  },
  {
   "cell_type": "markdown",
   "metadata": {},
   "source": [
    "## Cleaning the data "
   ]
  },
  {
   "cell_type": "markdown",
   "metadata": {},
   "source": [
    "#### 1- Drop columns we don't need."
   ]
  },
  {
   "cell_type": "code",
   "execution_count": 4,
   "metadata": {},
   "outputs": [
    {
     "data": {
      "text/plain": [
       "['hack_license',\n",
       " 'pickup_datetime',\n",
       " 'dropoff_datetime',\n",
       " 'trip_time_in_secs',\n",
       " 'trip_distance',\n",
       " 'pickup_longitude',\n",
       " 'pickup_latitude',\n",
       " 'dropoff_longitude',\n",
       " 'dropoff_latitude']"
      ]
     },
     "execution_count": 4,
     "metadata": {},
     "output_type": "execute_result"
    }
   ],
   "source": [
    "# Let's drop these columns\n",
    "trips = trips.drop('medallion', 'vendor_id', 'rate_code', 'store_and_fwd_flag', \n",
    "                   'passenger_count', 'trip_distance')\n",
    "trips.columns"
   ]
  },
  {
   "cell_type": "code",
   "execution_count": 5,
   "metadata": {},
   "outputs": [
    {
     "name": "stdout",
     "output_type": "stream",
     "text": [
      "+--------------------+-------------------+-------------------+-----------------+-------------+----------------+---------------+-----------------+----------------+\n",
      "|        hack_license|    pickup_datetime|   dropoff_datetime|trip_time_in_secs|trip_distance|pickup_longitude|pickup_latitude|dropoff_longitude|dropoff_latitude|\n",
      "+--------------------+-------------------+-------------------+-----------------+-------------+----------------+---------------+-----------------+----------------+\n",
      "|BA96DE419E711691B...|2013-01-01 15:11:48|2013-01-01 15:18:10|              382|         1.00|      -73.978165|      40.757977|       -73.989838|       40.751171|\n",
      "+--------------------+-------------------+-------------------+-----------------+-------------+----------------+---------------+-----------------+----------------+\n",
      "only showing top 1 row\n",
      "\n"
     ]
    }
   ],
   "source": [
    "trips.show(1)"
   ]
  },
  {
   "cell_type": "markdown",
   "metadata": {},
   "source": [
    "##### The size of the data before filteration."
   ]
  },
  {
   "cell_type": "code",
   "execution_count": 20,
   "metadata": {},
   "outputs": [
    {
     "data": {
      "text/plain": [
       "99999"
      ]
     },
     "execution_count": 20,
     "metadata": {},
     "output_type": "execute_result"
    }
   ],
   "source": [
    "trips.count()"
   ]
  },
  {
   "cell_type": "markdown",
   "metadata": {},
   "source": [
    "#### 2- Dropping nan values."
   ]
  },
  {
   "cell_type": "code",
   "execution_count": 26,
   "metadata": {},
   "outputs": [
    {
     "data": {
      "text/plain": [
       "99550"
      ]
     },
     "execution_count": 26,
     "metadata": {},
     "output_type": "execute_result"
    }
   ],
   "source": [
    "trips = trips.dropna()\n"
   ]
  },
  {
   "cell_type": "code",
   "execution_count": null,
   "metadata": {},
   "outputs": [],
   "source": [
    "trips.count()"
   ]
  },
  {
   "cell_type": "markdown",
   "metadata": {},
   "source": [
    "#### 3- Creating duration (ms) column for each trip."
   ]
  },
  {
   "cell_type": "code",
   "execution_count": 29,
   "metadata": {},
   "outputs": [],
   "source": [
    "# Create column duration \n",
    "trips = trips.withColumn(\"duration\", unix_timestamp(\"dropoff_datetime\", \"yyyy-MM-dd HH:mm:ss\")\n",
    "                         .cast(\"double\") - unix_timestamp(\"pickup_datetime\", \"yyyy-MM-dd HH:mm:ss\")\n",
    "                         .cast(\"double\"))"
   ]
  },
  {
   "cell_type": "code",
   "execution_count": 30,
   "metadata": {},
   "outputs": [
    {
     "name": "stdout",
     "output_type": "stream",
     "text": [
      "+--------------------+-------------------+-------------------+-----------------+-------------+----------------+---------------+-----------------+----------------+--------+\n",
      "|        hack_license|    pickup_datetime|   dropoff_datetime|trip_time_in_secs|trip_distance|pickup_longitude|pickup_latitude|dropoff_longitude|dropoff_latitude|duration|\n",
      "+--------------------+-------------------+-------------------+-----------------+-------------+----------------+---------------+-----------------+----------------+--------+\n",
      "|BA96DE419E711691B...|2013-01-01 15:11:48|2013-01-01 15:18:10|              382|         1.00|      -73.978165|      40.757977|       -73.989838|       40.751171|   382.0|\n",
      "|9FD8F69F0804BDB55...|2013-01-06 00:18:35|2013-01-06 00:22:54|              259|         1.50|      -74.006683|      40.731781|       -73.994499|        40.75066|   259.0|\n",
      "|9FD8F69F0804BDB55...|2013-01-05 18:49:41|2013-01-05 18:54:23|              282|         1.10|      -74.004707|       40.73777|       -74.009834|       40.726002|   282.0|\n",
      "|51EE87E3205C985EF...|2013-01-07 23:54:15|2013-01-07 23:58:20|              244|          .70|      -73.974602|      40.759945|       -73.984734|       40.759388|   245.0|\n",
      "|51EE87E3205C985EF...|2013-01-07 23:25:03|2013-01-07 23:34:24|              560|         2.10|       -73.97625|      40.748528|       -74.002586|       40.747868|   561.0|\n",
      "+--------------------+-------------------+-------------------+-----------------+-------------+----------------+---------------+-----------------+----------------+--------+\n",
      "only showing top 5 rows\n",
      "\n"
     ]
    }
   ],
   "source": [
    "trips.show(5)"
   ]
  },
  {
   "cell_type": "markdown",
   "metadata": {},
   "source": [
    "#### 4- filter data if the duration is less than 0 or bigger than (4 hours = 4*60*60 = 14400)."
   ]
  },
  {
   "cell_type": "code",
   "execution_count": 31,
   "metadata": {},
   "outputs": [],
   "source": [
    "# filter data if the duration is less than 0 or bigger than (4 hours = 4*60*60 = 14400)\n",
    "trips = trips.filter((trips['duration'] <= 14400.0) & (trips['duration'] > 0.0))"
   ]
  },
  {
   "cell_type": "markdown",
   "metadata": {},
   "source": [
    "##### The size of the data after filteration."
   ]
  },
  {
   "cell_type": "code",
   "execution_count": 33,
   "metadata": {},
   "outputs": [
    {
     "data": {
      "text/plain": [
       "99550"
      ]
     },
     "execution_count": 33,
     "metadata": {},
     "output_type": "execute_result"
    }
   ],
   "source": [
    "trips.count()"
   ]
  },
  {
   "cell_type": "markdown",
   "metadata": {},
   "source": [
    "**NOTES**\n",
    " - The data is cleaned, and we have columns we need.\n",
    " - The size of the data is reduced now w.r.t our cleaning."
   ]
  },
  {
   "cell_type": "code",
   "execution_count": null,
   "metadata": {},
   "outputs": [],
   "source": []
  }
 ],
 "metadata": {
  "kernelspec": {
   "display_name": "Python 3",
   "language": "python",
   "name": "python3"
  },
  "language_info": {
   "codemirror_mode": {
    "name": "ipython",
    "version": 3
   },
   "file_extension": ".py",
   "mimetype": "text/x-python",
   "name": "python",
   "nbconvert_exporter": "python",
   "pygments_lexer": "ipython3",
   "version": "3.5.3"
  }
 },
 "nbformat": 4,
 "nbformat_minor": 4
}
