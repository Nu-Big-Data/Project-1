{
 "cells": [
  {
   "cell_type": "markdown",
   "metadata": {},
   "source": [
    "## Analyzing NewYork City Taxi Rides\n",
    "### Author: Zynab Smaan."
   ]
  },
  {
   "cell_type": "code",
   "execution_count": 1,
   "metadata": {},
   "outputs": [],
   "source": [
    "from pyspark.sql import SparkSession, SQLContext\n",
    "from pyspark.sql.functions import *\n",
    "from pyspark.sql.types import *\n",
    "from shapely.geometry import Point, Polygon\n",
    "from pyspark.context import SparkContext"
   ]
  },
  {
   "cell_type": "code",
   "execution_count": 2,
   "metadata": {},
   "outputs": [],
   "source": [
    "spark = SparkSession \\\n",
    "    .builder \\\n",
    "    .appName(\"Analyzing New york city trips\") \\\n",
    "    .getOrCreate()"
   ]
  },
  {
   "cell_type": "code",
   "execution_count": 3,
   "metadata": {},
   "outputs": [],
   "source": [
    "trips = spark.read\\\n",
    "               .format(\"csv\")\\\n",
    "               .option(\"header\", \"true\")\\\n",
    "               .load(\"sample.csv\")"
   ]
  },
  {
   "cell_type": "code",
   "execution_count": 4,
   "metadata": {},
   "outputs": [
    {
     "name": "stdout",
     "output_type": "stream",
     "text": [
      "root\n",
      " |-- medallion: string (nullable = true)\n",
      " |-- hack_license: string (nullable = true)\n",
      " |-- vendor_id: string (nullable = true)\n",
      " |-- rate_code: string (nullable = true)\n",
      " |-- store_and_fwd_flag: string (nullable = true)\n",
      " |-- pickup_datetime: string (nullable = true)\n",
      " |-- dropoff_datetime: string (nullable = true)\n",
      " |-- passenger_count: string (nullable = true)\n",
      " |-- trip_time_in_secs: string (nullable = true)\n",
      " |-- trip_distance: string (nullable = true)\n",
      " |-- pickup_longitude: string (nullable = true)\n",
      " |-- pickup_latitude: string (nullable = true)\n",
      " |-- dropoff_longitude: string (nullable = true)\n",
      " |-- dropoff_latitude: string (nullable = true)\n",
      "\n"
     ]
    }
   ],
   "source": [
    "trips.printSchema()"
   ]
  },
  {
   "cell_type": "markdown",
   "metadata": {},
   "source": [
    "## Cleaning the data "
   ]
  },
  {
   "cell_type": "markdown",
   "metadata": {},
   "source": [
    "#### 1- Drop columns we don't need."
   ]
  },
  {
   "cell_type": "code",
   "execution_count": 5,
   "metadata": {},
   "outputs": [
    {
     "data": {
      "text/plain": [
       "['hack_license',\n",
       " 'pickup_datetime',\n",
       " 'dropoff_datetime',\n",
       " 'pickup_longitude',\n",
       " 'pickup_latitude',\n",
       " 'dropoff_longitude',\n",
       " 'dropoff_latitude']"
      ]
     },
     "execution_count": 5,
     "metadata": {},
     "output_type": "execute_result"
    }
   ],
   "source": [
    "# Let's drop these columns\n",
    "trips = trips.drop('medallion', 'vendor_id', 'rate_code', 'store_and_fwd_flag', \n",
    "                   'passenger_count', 'trip_distance', 'trip_time_in_secs')\n",
    "trips.columns"
   ]
  },
  {
   "cell_type": "code",
   "execution_count": 6,
   "metadata": {},
   "outputs": [
    {
     "name": "stdout",
     "output_type": "stream",
     "text": [
      "+--------------------+-------------------+-------------------+----------------+---------------+-----------------+----------------+\n",
      "|        hack_license|    pickup_datetime|   dropoff_datetime|pickup_longitude|pickup_latitude|dropoff_longitude|dropoff_latitude|\n",
      "+--------------------+-------------------+-------------------+----------------+---------------+-----------------+----------------+\n",
      "|BA96DE419E711691B...|2013-01-01 15:11:48|2013-01-01 15:18:10|      -73.978165|      40.757977|       -73.989838|       40.751171|\n",
      "+--------------------+-------------------+-------------------+----------------+---------------+-----------------+----------------+\n",
      "only showing top 1 row\n",
      "\n"
     ]
    }
   ],
   "source": [
    "trips.show(1)"
   ]
  },
  {
   "cell_type": "markdown",
   "metadata": {},
   "source": [
    "##### The size of the data before filteration."
   ]
  },
  {
   "cell_type": "code",
   "execution_count": 7,
   "metadata": {},
   "outputs": [
    {
     "data": {
      "text/plain": [
       "99999"
      ]
     },
     "execution_count": 7,
     "metadata": {},
     "output_type": "execute_result"
    }
   ],
   "source": [
    "trips.count()"
   ]
  },
  {
   "cell_type": "markdown",
   "metadata": {},
   "source": [
    "#### 2- Dropping nan values."
   ]
  },
  {
   "cell_type": "code",
   "execution_count": 8,
   "metadata": {},
   "outputs": [],
   "source": [
    "trips = trips.dropna()\n"
   ]
  },
  {
   "cell_type": "code",
   "execution_count": 9,
   "metadata": {},
   "outputs": [
    {
     "data": {
      "text/plain": [
       "99999"
      ]
     },
     "execution_count": 9,
     "metadata": {},
     "output_type": "execute_result"
    }
   ],
   "source": [
    "trips.count()"
   ]
  },
  {
   "cell_type": "markdown",
   "metadata": {},
   "source": [
    "#### 3- Creating duration (ms) column for each trip."
   ]
  },
  {
   "cell_type": "code",
   "execution_count": 10,
   "metadata": {},
   "outputs": [],
   "source": [
    "# Create column duration \n",
    "trips = trips.withColumn(\"duration\", unix_timestamp(\"dropoff_datetime\", \"yyyy-MM-dd HH:mm:ss\")\n",
    "                         .cast(\"double\") - unix_timestamp(\"pickup_datetime\", \"yyyy-MM-dd HH:mm:ss\")\n",
    "                         .cast(\"double\"))"
   ]
  },
  {
   "cell_type": "code",
   "execution_count": 11,
   "metadata": {},
   "outputs": [
    {
     "name": "stdout",
     "output_type": "stream",
     "text": [
      "+--------------------+-------------------+-------------------+----------------+---------------+-----------------+----------------+--------+\n",
      "|        hack_license|    pickup_datetime|   dropoff_datetime|pickup_longitude|pickup_latitude|dropoff_longitude|dropoff_latitude|duration|\n",
      "+--------------------+-------------------+-------------------+----------------+---------------+-----------------+----------------+--------+\n",
      "|BA96DE419E711691B...|2013-01-01 15:11:48|2013-01-01 15:18:10|      -73.978165|      40.757977|       -73.989838|       40.751171|   382.0|\n",
      "|9FD8F69F0804BDB55...|2013-01-06 00:18:35|2013-01-06 00:22:54|      -74.006683|      40.731781|       -73.994499|        40.75066|   259.0|\n",
      "|9FD8F69F0804BDB55...|2013-01-05 18:49:41|2013-01-05 18:54:23|      -74.004707|       40.73777|       -74.009834|       40.726002|   282.0|\n",
      "|51EE87E3205C985EF...|2013-01-07 23:54:15|2013-01-07 23:58:20|      -73.974602|      40.759945|       -73.984734|       40.759388|   245.0|\n",
      "|51EE87E3205C985EF...|2013-01-07 23:25:03|2013-01-07 23:34:24|       -73.97625|      40.748528|       -74.002586|       40.747868|   561.0|\n",
      "+--------------------+-------------------+-------------------+----------------+---------------+-----------------+----------------+--------+\n",
      "only showing top 5 rows\n",
      "\n"
     ]
    }
   ],
   "source": [
    "trips.show(5)"
   ]
  },
  {
   "cell_type": "markdown",
   "metadata": {},
   "source": [
    "#### 4- filter data if the duration is less than 0 or bigger than (4 hours = 4*60*60 = 14400)."
   ]
  },
  {
   "cell_type": "code",
   "execution_count": 12,
   "metadata": {},
   "outputs": [],
   "source": [
    "trips = trips.filter((trips['duration'] <= 14400.0) & (trips['duration'] > 0.0))"
   ]
  },
  {
   "cell_type": "markdown",
   "metadata": {},
   "source": [
    "##### The size of the data after filteration."
   ]
  },
  {
   "cell_type": "code",
   "execution_count": 13,
   "metadata": {},
   "outputs": [
    {
     "data": {
      "text/plain": [
       "99550"
      ]
     },
     "execution_count": 13,
     "metadata": {},
     "output_type": "execute_result"
    }
   ],
   "source": [
    "trips.count()"
   ]
  },
  {
   "cell_type": "markdown",
   "metadata": {},
   "source": [
    "**NOTES**\n",
    " - The data is cleaned, and we have columns we need.\n",
    " - The size of the data is reduced w.r.t our cleaning."
   ]
  },
  {
   "cell_type": "markdown",
   "metadata": {},
   "source": [
    "## Load GEOJSON data"
   ]
  },
  {
   "cell_type": "code",
   "execution_count": 14,
   "metadata": {},
   "outputs": [],
   "source": [
    "geojson_data = spark.read.json(\"nyc-boroughs.geojson\")"
   ]
  },
  {
   "cell_type": "code",
   "execution_count": 15,
   "metadata": {},
   "outputs": [
    {
     "name": "stdout",
     "output_type": "stream",
     "text": [
      "root\n",
      " |-- _corrupt_record: string (nullable = true)\n",
      " |-- geometry: struct (nullable = true)\n",
      " |    |-- coordinates: array (nullable = true)\n",
      " |    |    |-- element: array (containsNull = true)\n",
      " |    |    |    |-- element: array (containsNull = true)\n",
      " |    |    |    |    |-- element: double (containsNull = true)\n",
      " |    |-- type: string (nullable = true)\n",
      " |-- id: long (nullable = true)\n",
      " |-- properties: struct (nullable = true)\n",
      " |    |-- @id: string (nullable = true)\n",
      " |    |-- borough: string (nullable = true)\n",
      " |    |-- boroughCode: long (nullable = true)\n",
      " |-- type: string (nullable = true)\n",
      "\n"
     ]
    }
   ],
   "source": [
    "geojson_data.printSchema()"
   ]
  },
  {
   "cell_type": "markdown",
   "metadata": {},
   "source": [
    "### Getting columns we need "
   ]
  },
  {
   "cell_type": "code",
   "execution_count": 18,
   "metadata": {},
   "outputs": [],
   "source": [
    "cleaned_geojson_data = geojson_data.select(col(\"properties.*\"), col(\"geometry.*\"))\\\n",
    ".select(\"borough\",\"coordinates\").dropna()"
   ]
  },
  {
   "cell_type": "code",
   "execution_count": 19,
   "metadata": {},
   "outputs": [
    {
     "data": {
      "text/plain": [
       "104"
      ]
     },
     "execution_count": 19,
     "metadata": {},
     "output_type": "execute_result"
    }
   ],
   "source": [
    "cleaned_geojson_data.count()"
   ]
  },
  {
   "cell_type": "code",
   "execution_count": 20,
   "metadata": {},
   "outputs": [
    {
     "name": "stdout",
     "output_type": "stream",
     "text": [
      "+-------------+----------------------------------------------------------------------------------------------------------------------------------------------------------------------------------------------------------------------------------------------------------------------------------------------------------------------------------------------------------------------------------+\n",
      "|borough      |coordinates                                                                                                                                                                                                                                                                                                                                                                       |\n",
      "+-------------+----------------------------------------------------------------------------------------------------------------------------------------------------------------------------------------------------------------------------------------------------------------------------------------------------------------------------------------------------------------------------------+\n",
      "|Staten Island|[[[-74.05050806403247, 40.566422034160816], [-74.04998352562575, 40.56639592492827], [-74.04931640362088, 40.56588774778044], [-74.04923629842045, 40.5653627363681], [-74.05002620158643, 40.565318180621134], [-74.05090601705089, 40.5660943421306], [-74.05067916748614, 40.5663108457364], [-74.05107159803778, 40.5667224933978], [-74.05050806403247, 40.566422034160816]]]|\n",
      "+-------------+----------------------------------------------------------------------------------------------------------------------------------------------------------------------------------------------------------------------------------------------------------------------------------------------------------------------------------------------------------------------------------+\n",
      "only showing top 1 row\n",
      "\n"
     ]
    }
   ],
   "source": [
    "cleaned_geojson_data.show(1, False)"
   ]
  },
  {
   "cell_type": "markdown",
   "metadata": {},
   "source": [
    "### Broadcast the variables "
   ]
  },
  {
   "cell_type": "code",
   "execution_count": 34,
   "metadata": {},
   "outputs": [],
   "source": [
    "b_borough_list = [x[\"borough\"] for x in cleaned_geojson_data.rdd.collect()]\n",
    "b_coordinates_list = [x[\"coordinates\"] for x in cleaned_geojson_data.rdd.collect()]"
   ]
  },
  {
   "cell_type": "code",
   "execution_count": 35,
   "metadata": {},
   "outputs": [],
   "source": [
    "def get_borough(lang, lat):\n",
    "    p1 = Point(float(lang), float(lat))\n",
    "    for b,c in zip(b_borough_list, b_coordinates_list):\n",
    "        poly = Polygon(c[0])\n",
    "        if p1.within(poly):\n",
    "            return b"
   ]
  },
  {
   "cell_type": "code",
   "execution_count": 36,
   "metadata": {},
   "outputs": [],
   "source": [
    "get_borough_udf = udf(get_borough, StringType())"
   ]
  },
  {
   "cell_type": "code",
   "execution_count": 39,
   "metadata": {},
   "outputs": [
    {
     "name": "stdout",
     "output_type": "stream",
     "text": [
      "+--------------------+-------------------+-------------------+----------------+---------------+-----------------+----------------+--------+------------------+-------------------+\n",
      "|        hack_license|    pickup_datetime|   dropoff_datetime|pickup_longitude|pickup_latitude|dropoff_longitude|dropoff_latitude|duration|pickup_destination|dropoff_destination|\n",
      "+--------------------+-------------------+-------------------+----------------+---------------+-----------------+----------------+--------+------------------+-------------------+\n",
      "|BA96DE419E711691B...|2013-01-01 15:11:48|2013-01-01 15:18:10|      -73.978165|      40.757977|       -73.989838|       40.751171|   382.0|         Manhattan|          Manhattan|\n",
      "|9FD8F69F0804BDB55...|2013-01-06 00:18:35|2013-01-06 00:22:54|      -74.006683|      40.731781|       -73.994499|        40.75066|   259.0|         Manhattan|          Manhattan|\n",
      "|9FD8F69F0804BDB55...|2013-01-05 18:49:41|2013-01-05 18:54:23|      -74.004707|       40.73777|       -74.009834|       40.726002|   282.0|         Manhattan|          Manhattan|\n",
      "|51EE87E3205C985EF...|2013-01-07 23:54:15|2013-01-07 23:58:20|      -73.974602|      40.759945|       -73.984734|       40.759388|   245.0|         Manhattan|          Manhattan|\n",
      "|51EE87E3205C985EF...|2013-01-07 23:25:03|2013-01-07 23:34:24|       -73.97625|      40.748528|       -74.002586|       40.747868|   561.0|         Manhattan|          Manhattan|\n",
      "|598CCE5B9C1918568...|2013-01-07 15:27:48|2013-01-07 15:38:37|      -73.966743|      40.764252|       -73.983322|       40.743763|   649.0|         Manhattan|          Manhattan|\n",
      "|513189AD756FF14FE...|2013-01-08 11:01:15|2013-01-08 11:08:14|      -73.995804|      40.743977|       -74.007416|       40.744343|   419.0|         Manhattan|          Manhattan|\n",
      "|CCD4367B417ED6634...|2013-01-07 12:39:18|2013-01-07 13:10:56|      -73.989937|      40.756775|        -73.86525|        40.77063|  1898.0|         Manhattan|             Queens|\n",
      "|1DA2F6543A62B8ED9...|2013-01-07 18:15:47|2013-01-07 18:20:47|      -73.980072|      40.743137|       -73.982712|       40.735336|   300.0|         Manhattan|          Manhattan|\n",
      "|CD2F522EEE1FF5F5A...|2013-01-07 15:33:28|2013-01-07 15:49:26|      -73.977936|      40.786983|       -73.952919|        40.80637|   958.0|         Manhattan|          Manhattan|\n",
      "+--------------------+-------------------+-------------------+----------------+---------------+-----------------+----------------+--------+------------------+-------------------+\n",
      "only showing top 10 rows\n",
      "\n"
     ]
    }
   ],
   "source": [
    "trips = trips.withColumn(\"pickup_destination\", get_borough_udf(\"pickup_longitude\", \"pickup_latitude\"))\\\n",
    ".withColumn(\"dropoff_destination\",\\\n",
    "            get_borough_udf(\"dropoff_longitude\", \"dropoff_latitude\")).show(10)"
   ]
  },
  {
   "cell_type": "code",
   "execution_count": null,
   "metadata": {},
   "outputs": [],
   "source": []
  },
  {
   "cell_type": "code",
   "execution_count": null,
   "metadata": {},
   "outputs": [],
   "source": []
  },
  {
   "cell_type": "code",
   "execution_count": null,
   "metadata": {},
   "outputs": [],
   "source": []
  }
 ],
 "metadata": {
  "kernelspec": {
   "display_name": "Python 3",
   "language": "python",
   "name": "python3"
  },
  "language_info": {
   "codemirror_mode": {
    "name": "ipython",
    "version": 3
   },
   "file_extension": ".py",
   "mimetype": "text/x-python",
   "name": "python",
   "nbconvert_exporter": "python",
   "pygments_lexer": "ipython3",
   "version": "3.5.3"
  }
 },
 "nbformat": 4,
 "nbformat_minor": 4
}
